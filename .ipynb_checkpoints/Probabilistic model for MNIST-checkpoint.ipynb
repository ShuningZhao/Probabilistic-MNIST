{
 "cells": [
  {
   "cell_type": "markdown",
   "metadata": {},
   "source": [
    "# MNIST handwritten digits recognition using Probabilistic Models\n",
    "\n",
    "** Last update: Febuary 15th 2018 at 10:35pm **\n",
    "\n",
    "** By Shuning Zhao **"
   ]
  },
  {
   "cell_type": "markdown",
   "metadata": {},
   "source": [
    "## General Instructions\n",
    "This code aims to build a class-conditional classifer using Gaussian Mixture Models (GMMs). \n",
    "\n",
    "1. For all the machine-learning related code you have two options: (a) use [scikit-learn](http://scikit-learn.org/stable/) and/or (b) write your own code. In particular, for fitting GMMs or building the classifier, you should refrain from using other packages. \n",
    "2. This code uses the package [scikit-learn Gaussian Mixture](http://scikit-learn.org/stable/modules/mixture.html) for GMM. Use standard (non-variational) Expectation-Maximisation updates for parameter estimation. \n",
    "\n",
    "### Main task\n",
    "My tasks is to build a class-conditional classifier for classifying digits using the MNIST dataset. There is a file `mnist_train.npz` that contains images of digits (0-9). \n",
    "- The features `xtrain`, which have been normalized to be between [0,1], are 784 dimensional vectors corresponding to 28 * 28 image intensities. \n",
    "- The targets `ytrain` contain the class label of each example using one-hot-encoding. \n",
    "- In total there are 60,000 examples, each with one label from the 10 different classes. \n",
    "- The original dataset can be found at http://yann.lecun.com/exdb/mnist/ and you can read more about this dataset there. However, this dataset has been processed and shuffled so the training and test data in this exercise do not correspond to the original sets. \n"
   ]
  },
  {
   "cell_type": "markdown",
   "metadata": {},
   "source": [
    "### Refresher\n",
    "Recall that a class-conditional classifier models the joint distribution of features $\\mathbf{x}$ and classes $y$ as $p(\\mathbf{x}, y) = p(y) p(\\mathbf{x} | y)$ and then uses Bayes' rule $p(y | \\mathbf{x}) \\propto  p(y) p(\\mathbf{x} | y)$ to make predictions. In this assignment, you will use a GMM for each of the conditional densities $p(\\mathbf{x} | y)$ and a Categorical distribution for $p(y)$.   "
   ]
  },
  {
   "cell_type": "markdown",
   "metadata": {},
   "source": [
    "### Packages \n",
    "Required libraries"
   ]
  },
  {
   "cell_type": "code",
   "execution_count": 29,
   "metadata": {
    "collapsed": true
   },
   "outputs": [],
   "source": [
    "# Necessary libraries\n",
    "import scipy as sp\n",
    "import numpy as np\n",
    "import matplotlib.pyplot as pl\n",
    "import sklearn as skl\n",
    "from sklearn.decomposition import PCA\n",
    "from sklearn.mixture import GaussianMixture\n",
    "from sklearn.discriminant_analysis import QuadraticDiscriminantAnalysis\n",
    "from sklearn.preprocessing import OneHotEncoder\n",
    "from sklearn.preprocessing import LabelBinarizer\n",
    "import warnings\n",
    "warnings.filterwarnings(\"ignore\")\n",
    "# Put the graphs where we can see them\n",
    "%matplotlib inline"
   ]
  },
  {
   "cell_type": "markdown",
   "metadata": {},
   "source": [
    "You can use the function below to plot a digit in the dataset."
   ]
  },
  {
   "cell_type": "code",
   "execution_count": 30,
   "metadata": {
    "collapsed": true
   },
   "outputs": [],
   "source": [
    "def plot_image(array, dim=28):\n",
    "    \"\"\"\n",
    "    Plot array as an image of dimensions dim * dim\n",
    "    \"\"\"\n",
    "    img = array.reshape(dim,dim, order = \"C\")\n",
    "    pl.imshow(img, cmap=pl.cm.gray)\n",
    "    ax = pl.gca();ax.set_yticks([]);ax.set_xticks([])"
   ]
  },
  {
   "cell_type": "markdown",
   "metadata": {},
   "source": [
    "This is how you should load your training data."
   ]
  },
  {
   "cell_type": "code",
   "execution_count": 31,
   "metadata": {
    "collapsed": true
   },
   "outputs": [],
   "source": [
    "data = np.load('mnist_train.npz')\n",
    "\n",
    "# training data\n",
    "xtrain = data['xtrain']\n",
    "ytrain = data['ytrain']"
   ]
  },
  {
   "cell_type": "markdown",
   "metadata": {},
   "source": [
    "Here and example of plotting a specific digit and showing its corresponding label."
   ]
  },
  {
   "cell_type": "code",
   "execution_count": 32,
   "metadata": {},
   "outputs": [
    {
     "name": "stdout",
     "output_type": "stream",
     "text": [
      "[ 0.  0.  0.  0.  0.  1.  0.  0.  0.  0.]\n"
     ]
    },
    {
     "data": {
      "image/png": "[encoded data removed]",
      "text/plain": [
       "<matplotlib.figure.Figure at 0x161b09fa780>"
      ]
     },
     "metadata": {},
     "output_type": "display_data"
    }
   ],
   "source": [
    "idx = 10\n",
    "plot_image(xtrain[idx,:])\n",
    "print (ytrain[idx,:])"
   ]
  },
  {
   "cell_type": "markdown",
   "metadata": {},
   "source": [
    "## 1. Training the model"
   ]
  },
  {
   "cell_type": "markdown",
   "metadata": {},
   "source": [
    "All the code for training your model are using the function `train_model` below. \n",
    "\n",
    "- You should be able to run your notebook (by clicking 'Cell->Run All') without errors. However, you must save the trained model in the file `model.npz`. This file will be loaded to make predictions in section 2 and assess the performance of the model in section 3.\n",
    "\n",
    "- It is strongly discouraged to use a full covariance for each of the components of the Gaussian mixture, as the number of parameters grows quadratically on the dimensionality of the data and you will be unable to fit the file size cap in your submission (besides running into various numerical issues). "
   ]
  },
  {
   "cell_type": "code",
   "execution_count": null,
   "metadata": {
    "collapsed": true
   },
   "outputs": [],
   "source": [
    "def train_model(xtrain, ytrain):\n",
    "    \"\"\"\n",
    "    Algorithm:\n",
    "    Step 1: Use PCA for dimensionality reduction. Name the new training set xtrain_pca.\n",
    "    Step 2: Fit the data to multiple GMMs, use BIC for model selection.\n",
    "    Step 3: Predict the latent variables of xtrain_pca with the GMM from previous step.\n",
    "    Step 4: Append the latent variables to xtrain_pca for model training.\n",
    "    Step 5: Decode the ytrain data from one-hot format, so it can be used for training QDA.\n",
    "    Step 6: Fit this dataset to Quadratic Discriminant Analysis, which is a class-conditional classifier models.\n",
    "    Step 7: Save model.\n",
    "    End\n",
    "    \"\"\"\n",
    "    \n",
    "    #Step 1 - PCA Reduction.\n",
    "    pca = PCA(n_components = 50)\n",
    "    pca.fit(xtrain)\n",
    "    xtrain_pca = pca.transform(xtrain)\n",
    "    \n",
    "\n",
    "    #Step 2 - GMM with BIC model selection.\n",
    "    lowest_bic = np.infty\n",
    "    bic = []\n",
    "    n_components_range = range(10,120)\n",
    "    cv_types = ['spherical', 'tied', 'diag', 'full']\n",
    "    for cv_type in cv_types:\n",
    "        for n_components in n_components_range:\n",
    "            gmm = GaussianMixture(n_components=n_components,covariance_type=cv_type)\n",
    "            gmm.fit(xtrain_pca)\n",
    "            bic.append(gmm.bic(xtrain_pca))\n",
    "            if bic[-1] < lowest_bic:\n",
    "                lowest_bic = bic[-1]\n",
    "                best_gmm = gmm\n",
    "    \n",
    "    #Step 3 and 4 - Append the latent variables to our training set.\n",
    "    gmm = best_gmm\n",
    "    z1 = gmm.predict(xtrain_pca)\n",
    "    z1 = np.matrix(z1)\n",
    "    xtrain_pca = np.matrix(xtrain_pca)\n",
    "    xtrain_lat = np.concatenate( (xtrain_pca, np.matrix.transpose(z1)), axis = 1 )            \n",
    "                \n",
    "    #Step 5 - Decoding one-hot for ytrain\n",
    "    ytrain_de = list()\n",
    "    for i in range( len(ytrain)):\n",
    "        ytrain_de.append(np.argmax(ytrain[i]))\n",
    "    \n",
    "    #Step 6 - Train QDA\n",
    "    qda = QuadraticDiscriminantAnalysis()\n",
    "    qda.fit(xtrain_lat, ytrain_de)\n",
    "    \n",
    "    #Step 7 - Save Model\n",
    "    np.savez_compressed(\n",
    "        'model.npz',\n",
    "        gmm=gmm,\n",
    "        pca=pca,\n",
    "        model=qda\n",
    "    )"
   ]
  },
  {
   "cell_type": "markdown",
   "metadata": {},
   "source": [
    "## 2. Predictions"
   ]
  },
  {
   "cell_type": "markdown",
   "metadata": {},
   "source": [
    "Here we will assume that there is a file `mnist_test.npz` from which we will load the test data. The function `make_predictions` should load the `model.npz` file, which must contain all the data structures necessary for making predictions.\n"
   ]
  },
  {
   "cell_type": "code",
   "execution_count": 74,
   "metadata": {},
   "outputs": [
    {
     "name": "stdout",
     "output_type": "stream",
     "text": [
      "[ 1.  0.  0.  0.  0.  0.  0.  0.  0.  0.]\n"
     ]
    },
    {
     "data": {
      "image/png": "[encoded data removed]",
      "text/plain": [
       "<matplotlib.figure.Figure at 0x161b0553438>"
      ]
     },
     "metadata": {},
     "output_type": "display_data"
    }
   ],
   "source": [
    "test = np.load('mnist_test.npz')\n",
    "# test data\n",
    "xtest = test['xtest']\n",
    "ytest = test['ytest']\n",
    "idx = 1000\n",
    "plot_image(xtest[idx,:])\n",
    "print (ytest[idx,:])"
   ]
  },
  {
   "cell_type": "code",
   "execution_count": 81,
   "metadata": {
    "collapsed": true
   },
   "outputs": [],
   "source": [
    "def make_predictions(xtest):\n",
    "    \"\"\"\n",
    "    @param xtest: (Ntest,D)-array with test data\n",
    "    @return class_pred: (N,C)-array with predicted classes using one-hot-encoding \n",
    "    @return class_logprob: (N,C)-array with  predicted log probability of the classes   \n",
    "    \n",
    "    Algorithm:\n",
    "    Step 1 - Load the model.\n",
    "    Step 2 - PCA on xtest.\n",
    "    Step 3 - Predict the latent variables of xtest_pca.\n",
    "    Step 4 - Append the latent variables to xtest_pca.\n",
    "    Step 5 - Make prediction, calculate the class the probability.\n",
    "    Step 6 - One-Hot Encode the results.\n",
    "    Step 7 - Remove the negative infinity in class_logprob, else predictive_performance function will catch error.\n",
    "    End\n",
    "    \"\"\"\n",
    "    \n",
    "    #Step 1 - Load the model.\n",
    "    qda = np.load('model.npz')['model'].tolist();\n",
    "    pca = np.load('model.npz')['pca'].tolist();\n",
    "    gmm = np.load('model.npz')['gmm'].tolist();\n",
    "    \n",
    "    #Step 2 - PCA on xtest.\n",
    "    xtest_pca = pca.transform(xtest)\n",
    "    \n",
    "    #Step 3 - Predict the latent variables of xtest_pca.\n",
    "    z2 = gmm.predict(xtest_pca)\n",
    "    z2 = np.matrix(z2)\n",
    "    \n",
    "    #Step 4 - Append the latent variables to xtest_pca.\n",
    "    xtest_pca = np.matrix(xtest_pca)\n",
    "    xtest_lat = np.concatenate( (xtest_pca, np.matrix.transpose(z2)), axis = 1 )\n",
    "    \n",
    "    #Step 5 - Make prediction, calculate the class the probability.\n",
    "    class_pred = qda.predict(xtest_lat)\n",
    "    class_logprob = qda.predict_log_proba(xtest_lat)\n",
    "    \n",
    "    #Step 6 - One-Hot Encode the results.\n",
    "    lb = LabelBinarizer()\n",
    "    lb.fit([0, 1, 2, 3, 4, 5, 6, 7, 8, 9])\n",
    "    class_pred = lb.transform(class_pred)\n",
    "    \n",
    "    #Step 7 - Remove the negative infinity in class_logprob, else predictive_performance function will catch error.\n",
    "    for i in range( len( class_logprob)):\n",
    "        for j in range( len(class_logprob[i])):\n",
    "            if class_logprob[i][j] == -np.infty:\n",
    "                class_logprob[i][j] = np.nan\n",
    "                \n",
    "    return class_pred, class_logprob"
   ]
  },
  {
   "cell_type": "markdown",
   "metadata": {},
   "source": [
    "## 3. Performance \n",
    "This section tests the generalisation performance of the code. Used to evaluate the performance of the algorithm on a new test test. "
   ]
  },
  {
   "cell_type": "code",
   "execution_count": 82,
   "metadata": {
    "collapsed": true
   },
   "outputs": [],
   "source": [
    "def predictive_performance(xdata, ydata, class_pred, class_logprob):\n",
    "    \"\"\"\n",
    "    @param xdata:  (N,D)-array of features \n",
    "    @param ydata:  (N,C)-array of one-hot-encoded true classes\n",
    "    @class_pred: (N,C)-array of one-hot-encoded predicted classes\n",
    "    @class_logprob: (N,C)-array of predicted class log probabilities \n",
    "    \"\"\"\n",
    "    correct = np.zeros(xdata.shape[0])\n",
    "    ltest = np.zeros(xdata.shape[0])\n",
    "    for i, x in enumerate(xdata):\n",
    "        correct[i] = np.all(ydata[i, :] == class_pred[i,:])\n",
    "        ltest[i] = class_logprob[i, np.argmax(ydata[i,:])]\n",
    "    accuracy = correct.mean()\n",
    "    loglike = np.nanmean(ltest)\n",
    "    return accuracy, loglike"
   ]
  },
  {
   "cell_type": "code",
   "execution_count": 83,
   "metadata": {
    "collapsed": true,
    "scrolled": false
   },
   "outputs": [],
   "source": [
    "class_pred, class_logprob = make_predictions(xtest)\n",
    "accuracy, loglike = predictive_performance(xtest, ytest, class_pred, class_logprob)"
   ]
  },
  {
   "cell_type": "code",
   "execution_count": 84,
   "metadata": {
    "scrolled": true
   },
   "outputs": [
    {
     "name": "stdout",
     "output_type": "stream",
     "text": [
      "Average test accuracy=0.958535353535\n",
      "Average test likelihood=-1.17423137112\n"
     ]
    }
   ],
   "source": [
    "print('Average test accuracy=' + str(accuracy))\n",
    "print('Average test likelihood=' + str(loglike))"
   ]
  },
  {
   "cell_type": "code",
   "execution_count": null,
   "metadata": {
    "collapsed": true
   },
   "outputs": [],
   "source": []
  }
 ],
 "metadata": {
  "kernelspec": {
   "display_name": "Python [conda root]",
   "language": "python",
   "name": "conda-root-py"
  },
  "language_info": {
   "codemirror_mode": {
    "name": "ipython",
    "version": 3
   },
   "file_extension": ".py",
   "mimetype": "text/x-python",
   "name": "python",
   "nbconvert_exporter": "python",
   "pygments_lexer": "ipython3",
   "version": "3.5.4"
  },
  "toc": {
   "colors": {
    "hover_highlight": "#DAA520",
    "navigate_num": "#000000",
    "navigate_text": "#333333",
    "running_highlight": "#FF0000",
    "selected_highlight": "#FFD700",
    "sidebar_border": "#EEEEEE",
    "wrapper_background": "#FFFFFF"
   },
   "moveMenuLeft": true,
   "nav_menu": {
    "height": "179px",
    "width": "252px"
   },
   "navigate_menu": true,
   "number_sections": true,
   "sideBar": true,
   "threshold": 4,
   "toc_cell": false,
   "toc_section_display": "block",
   "toc_window_display": false,
   "widenNotebook": false
  }
 },
 "nbformat": 4,
 "nbformat_minor": 2
}
